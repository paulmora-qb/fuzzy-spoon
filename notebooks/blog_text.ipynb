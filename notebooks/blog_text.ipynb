{
 "cells": [
  {
   "cell_type": "markdown",
   "metadata": {},
   "source": [
    "This blog post elaborates on the `auto_insta` project which automatically creates images\n",
    "which contain a quote and author name. These images are subsequently automatically\n",
    "pushed to instagram.\n",
    "\n",
    "The text for the quote is created through a LLM. Further, the hashtags that are created\n",
    "for the image are also generated through a LLM.\n",
    "\n",
    "## Code Repository\n",
    "The code repository for the project can be found\n",
    "[here](https://github.com/paulmora-qb/fuzzy-spoon). As the pipelining tool in this\n",
    "project, kedro is used. As of now (04.04.2024) there are two pipelines in place.\n",
    "\n",
    "### 1. Pipeline: Creation of quote & author + Creation of the image.\n",
    "The first pipeline is responsible for creating the quote and author. The quote and\n",
    "author are created through a LLM. The image is created through the `PIL` library.\n",
    "\n",
    "### 2. Pipeline: Creation of hashtags + Publish image to instagram.\n",
    "The second pipeline is responsible for creating the hashtags for the image. The hashtags\n",
    "are created through a LLM. The image is then published to instagram through the\n",
    "`instagrapi` library.\n",
    "\n",
    "## Creation of quote & author.\n",
    "The usage of the LLM is orchestrated through `langchain`. The `langchain` library is\n",
    "responsible for the creation of the text. The prompt is build through the \n",
    "`HumanMessagePromptTemplate` and `SystemMessagePromptTemplate` which are below.\n",
    "\n",
    "```yaml\n",
    "instruction_message: \"\n",
    "  Write a famous quote from a well-known person. This quote can be motivational,\n",
    "  inspirational, or thought-provoking. The quote should be less than 100 characters.\n",
    "  The main goal is to inspire and motivate the reader. Be careful not to generate a\n",
    "  quote that is already present in the list of texts that were already used.\n",
    "\n",
    "  Text Already Used: {past_texts}\n",
    "  Format instructions: {format_instructions}\n",
    "\"\n",
    "\n",
    "system_message: \"\n",
    "  You are a motivitional AI which provides famous and uplifting quotes.\n",
    "\"\n",
    "\n",
    "pydantic_object_path: libs.flow_modules.generate_query.Quote\n",
    "\n",
    "```\n",
    "\n",
    "The instruction message takes two further variables as an input, namely the `past_texts`\n",
    "and `format_instructions`. The `past_texts` are the quotes that were already used. The\n",
    "`format_instructions` are the instructions on how the quote should be formatted.\n",
    "\n",
    "The format instructions are coming from the PydanticOutputparser which are fed with\n",
    "the `pydantic_object`, which has to be user-defined. The path for that is also stated\n",
    "in the `parameters` file.\n",
    "\n",
    "## Creation of the the image.\n",
    "After the text for the image was created, the next step would be to place the text also\n",
    "onto that image. For that a couple of things had to be considered. Namely,\n",
    "\n",
    "1. The fonts for the quote and author should be different to each other.\n",
    "2. The text width should not go beyond the image width.\n",
    "3. The text should be centered on the image.\n",
    "\n",
    "As an example image the following image was created.\n",
    "\n"
   ]
  },
  {
   "cell_type": "markdown",
   "metadata": {},
   "source": [
    "<img src=\"../images/post.png\" alt=\"post\" width=\"600\">\n"
   ]
  },
  {
   "cell_type": "markdown",
   "metadata": {},
   "source": [
    "## Creation of hashtags.\n",
    "The creation of the hashtags follow the very same logic as the creation of the text\n",
    "itself, the difference is only the input to the prompt. The input for the hashtags\n",
    "is the quote itself. Also the LLM is asked to generate around 10 hashtags which are\n",
    "relevant to the post itself.\n"
   ]
  },
  {
   "cell_type": "markdown",
   "metadata": {},
   "source": [
    "<img src=\"../images/hashtags.png\" alt=\"post\" width=\"600\">"
   ]
  },
  {
   "cell_type": "markdown",
   "metadata": {},
   "source": [
    "## Publishing the image to instagram.\n",
    "For the last part the `instagrapi` library was used. For that one needs username\n",
    "and password of the account, the image and the caption (the hashtags created before).\n",
    "The instagram account that is used for this project is linked [here](https://www.instagram.com/daily_poem_machine/)\n",
    "\n",
    "## Scheduler.\n",
    "The whole codebase is deployed on databricks and makes use of a scheduler, which runs\n",
    "both pipelines every day.\n",
    "\n",
    "## Next Steps.\n",
    "Several things were not done in this first instance and could be considered to be done\n",
    "in the future.\n",
    "\n",
    "1. Pytesting the application\n",
    "2. Creating different kind of images and scaling the project more accounts.\n"
   ]
  }
 ],
 "metadata": {
  "language_info": {
   "name": "python"
  }
 },
 "nbformat": 4,
 "nbformat_minor": 2
}
